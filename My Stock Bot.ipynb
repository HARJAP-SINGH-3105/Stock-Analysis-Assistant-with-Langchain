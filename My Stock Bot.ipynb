{
 "cells": [
  {
   "cell_type": "code",
   "execution_count": 34,
   "id": "be54fd78-d351-405b-867f-27835e630399",
   "metadata": {},
   "outputs": [],
   "source": [
    "## History data of stocks\n",
    "## Recent News\n",
    "## Ratios like P/E, P/B, ROE, EPS, Industry P/E   \n",
    "# Analyse all the data and recommend the stock based on the ReAct"
   ]
  },
  {
   "cell_type": "markdown",
   "id": "ccc3ba01-9e1d-4825-8e3a-1805afe7ffb5",
   "metadata": {},
   "source": [
    "## Stock Bot"
   ]
  },
  {
   "cell_type": "code",
   "execution_count": null,
   "id": "00851ad2-cf4f-40b3-986f-0158e80c9998",
   "metadata": {},
   "outputs": [],
   "source": [
    "# !pip install feedparser --quiet\n",
    "# !pip install streamlit  --quiet\n",
    "# !pip install jupyter_contrib_nbextensions"
   ]
  },
  {
   "cell_type": "code",
   "execution_count": 4,
   "id": "d667d2b2-3ffd-4e3b-9207-9bb513ac33d6",
   "metadata": {},
   "outputs": [],
   "source": [
    "import os\n",
    "import re\n",
    "import requests\n",
    "import warnings\n",
    "warnings.filterwarnings(\"ignore\")\n",
    "from bs4 import BeautifulSoup\n",
    "import pandas as pd\n",
    "import json\n",
    "from googlesearch import search\n",
    "import yfinance as yf\n",
    "import feedparser\n",
    "from urllib.parse import quote_plus\n",
    "\n",
    "import langchain\n",
    "from langchain.llms import OpenAI\n",
    "from langchain.agents import load_tools, AgentType, Tool, initialize_agent\n",
    "from langchain.chat_models import ChatOpenAI\n",
    "from langchain.schema import HumanMessage, SystemMessage\n",
    "from langchain.callbacks import get_openai_callback\n",
    "from langchain.tools import Tool\n",
    "from langchain.agents import initialize_agent, AgentType\n"
   ]
  },
  {
   "cell_type": "code",
   "execution_count": 37,
   "id": "b4a25eeb-0a5a-4d70-8e95-d1d7bb276522",
   "metadata": {},
   "outputs": [
    {
     "name": "stdin",
     "output_type": "stream",
     "text": [
      "Enter OpenAI API key ········\n"
     ]
    }
   ],
   "source": [
    "import getpass\n",
    "os.environ['OPENAI_API_KEY'] = getpass.getpass('Enter OpenAI API key')"
   ]
  },
  {
   "cell_type": "code",
   "execution_count": 7,
   "id": "44bf3bcc-2c47-46f0-8395-7d4f92d2c964",
   "metadata": {},
   "outputs": [],
   "source": [
    "nse_data =  pd.read_excel('NSE_Symbols.xlsx')\n",
    "nse_data.drop(columns= [ 'Sr. No.','Market capitalization as on March 28, 2024\\n(In lakhs)'],inplace =True)"
   ]
  },
  {
   "cell_type": "markdown",
   "id": "57ae5821-7441-4470-9077-45bec24ae2bd",
   "metadata": {
    "jp-MarkdownHeadingCollapsed": true
   },
   "source": [
    "### Fetching Company Symobl"
   ]
  },
  {
   "cell_type": "code",
   "execution_count": 8,
   "id": "decb8949-7be1-4668-b03d-c13cfece9cf5",
   "metadata": {},
   "outputs": [],
   "source": [
    "def find_company_symbol(company_name, nse_data):\n",
    "    \n",
    "    company_name = company_name + \" LTD\"\n",
    "    json_data = nse_data.to_json(orient='split')\n",
    "    json_data = json.loads(json_data)\n",
    "    data = json_data['data']\n",
    "    \n",
    "    # Initialize the LangChain ChatOpenAI model\n",
    "    # Initialize the ChatOpenAI model\n",
    "    model = ChatOpenAI(model_name=\"gpt-4o-mini\")\n",
    "\n",
    "\n",
    "    # Define the function schema for symbol extraction\n",
    "    function_symbol = [{\n",
    "        \"name\": \"function_symbol\",\n",
    "        \"description\": \"Find symbol for company from given JSON data. If a match exists, return the symbol.\",\n",
    "        \"parameters\": {\n",
    "            \"type\": \"object\",\n",
    "            \"properties\": {\n",
    "                \"symbol\": {\n",
    "                    \"type\": \"string\",\n",
    "                    \"description\": \"The symbol for the company if found in the JSON data.\"\n",
    "                },\n",
    "                \"company_name\": {\n",
    "                    \"type\": \"string\",\n",
    "                    \"description\": \"The name of the company given in JSON data.\"\n",
    "                },\n",
    "            },\n",
    "            \"required\": [\"symbol\", \"company_name\"],\n",
    "        },\n",
    "    }]\n",
    "\n",
    "    system_msg = SystemMessage(content=\"\"\"\n",
    "            You are an analyst that finds the symbol of a company from given JSON data. Each item in the JSON object contains the symbol of a company and its name.\n",
    "            For a given company name, you will look for each name in the given JSON object, then find the one which looks most similar to the given name\n",
    "            and return the corresponding symbol and name that you found in JSON data.\n",
    "            \"\"\"\n",
    "             )\n",
    "\n",
    "    human_msg = HumanMessage(content=  f\"\"\"\n",
    "            Find the symbol and name of {company_name}.\n",
    "\n",
    "            JSON data is:\n",
    "            {data}\n",
    "            \"\"\")\n",
    "   \n",
    "    # Call the model with function calling using LangChain's updated method\n",
    "   \n",
    "    with get_openai_callback() as cb:\n",
    "        response = model.invoke(\n",
    "            [system_msg, human_msg],\n",
    "            functions=function_symbol,\n",
    "            function_call={\"name\": \"function_symbol\"}\n",
    "        )\n",
    "\n",
    "    function_call = response.additional_kwargs['function_call']\n",
    "    company_info = json.loads(function_call['arguments'])\n",
    "    \n",
    "    \n",
    "    return {'symbol': company_info['symbol'], 'full_name':company_info['company_name'].replace('&','').lower().replace(' ','-')}"
   ]
  },
  {
   "cell_type": "code",
   "execution_count": 14,
   "id": "22f98ab8-ea2f-47e8-a050-d6cda4fc55f1",
   "metadata": {},
   "outputs": [
    {
     "data": {
      "text/plain": [
       "{'symbol': 'ADANIGREEN', 'full_name': 'adani-green-energy-ltd'}"
      ]
     },
     "execution_count": 14,
     "metadata": {},
     "output_type": "execute_result"
    }
   ],
   "source": [
    "company_name =  \"adani green\"\n",
    "find_company_symbol(company_name, nse_data)\n"
   ]
  },
  {
   "cell_type": "markdown",
   "id": "0319ce9f-32a0-4182-b3f6-3a766bd0a6a6",
   "metadata": {
    "jp-MarkdownHeadingCollapsed": true
   },
   "source": [
    "### Meeting Yahoo"
   ]
  },
  {
   "cell_type": "code",
   "execution_count": 9,
   "id": "fb8d17b2-fa6f-4d8d-bcb3-2d576be1d6b1",
   "metadata": {},
   "outputs": [],
   "source": [
    "''' Fetch stock data from Yahoo Finance '''\n",
    "\n",
    "def get_stock_price(ticker,history =10):\n",
    "    # time.sleep(4) #To avoid rate limit error\n",
    "    if \".\" in ticker:\n",
    "        ticker=ticker.split(\".\")[0]\n",
    "    ticker=ticker+\".NS\"\n",
    "    stock = yf.Ticker(ticker)\n",
    "    df = stock.history(period=\"5d\")  #['1d', '5d', '1mo', '3mo', '6mo', '1y', '2y', '5y', '10y', 'ytd', 'max']\n",
    "    df=df[[\"Close\",\"Open\", \"Volume\"]] \n",
    "    df.index=[str(x).split()[0] for x in list(df.index)]\n",
    "    df.index.rename(\"Date\",inplace=True)\n",
    "    df.reset_index(inplace = True)\n",
    "    df=df[-history:]\n",
    "\n",
    "    json_data = df.to_json(orient='split')\n",
    "    data = json.loads(json_data)['data']\n",
    "    \n",
    "    return {'past_5_days_data': data}\n"
   ]
  },
  {
   "cell_type": "code",
   "execution_count": 10,
   "id": "5e640032-bf24-4ab4-a458-980e9ced325f",
   "metadata": {},
   "outputs": [
    {
     "data": {
      "text/plain": [
       "{'past_5_days_data': [['2024-12-16', 1268.3000488281, 1275.0, 9486781],\n",
       "  ['2024-12-17', 1245.3000488281, 1261.0500488281, 17462791],\n",
       "  ['2024-12-18', 1253.25, 1240.6500244141, 12670179],\n",
       "  ['2024-12-19', 1230.4499511719, 1239.0, 14244653],\n",
       "  ['2024-12-20', 1205.3000488281, 1224.0, 20312896]]}"
      ]
     },
     "execution_count": 10,
     "metadata": {},
     "output_type": "execute_result"
    }
   ],
   "source": [
    "ticker = \"RELIANCE\"\n",
    "get_stock_price(ticker)"
   ]
  },
  {
   "cell_type": "markdown",
   "id": "fe2e6d6a-aa4d-4185-80c3-fe3a062e49e2",
   "metadata": {
    "jp-MarkdownHeadingCollapsed": true
   },
   "source": [
    "### News Headlines"
   ]
  },
  {
   "cell_type": "code",
   "execution_count": 11,
   "id": "309227dc-b979-4e51-a2f4-5dcead144035",
   "metadata": {},
   "outputs": [],
   "source": [
    "def get_google_news_headlines(company_name, max_limit= 10):\n",
    "    # Google News RSS feed URL for the given company\n",
    "    rss_url = f\"https://news.google.com/rss/search?q={quote_plus(company_name)}&hl=en-US&gl=US&ceid=US:en\"\n",
    "    \n",
    "    # Parse the RSS feed\n",
    "    news_feed = feedparser.parse(rss_url)\n",
    "    \n",
    "    # Extract the top 5 headlines\n",
    "    headlines = []\n",
    "    for entry in news_feed.entries[:max_limit]:  # Get only the top 5 news entries\n",
    "        headlines.append(entry.title)\n",
    "        \n",
    "    return {'recent_news':headlines}\n"
   ]
  },
  {
   "cell_type": "code",
   "execution_count": 12,
   "id": "cfaf3a88-f4d9-498d-8fa2-fc51ff1b860a",
   "metadata": {},
   "outputs": [
    {
     "data": {
      "text/plain": [
       "{'recent_news': [\"India's Hindustan Unilever reports higher Q1 profit on volume growth - Reuters.com\",\n",
       "  'Hindustan Unilever Wins Digital Supply Chain at P&SC Awards - Supply Chain Digital',\n",
       "  'Hindustan Unilever sees 10 of its brands at the sweet spot to go premium - Business Standard',\n",
       "  'Risks To Shareholder Returns Are Elevated At These Prices For Hindustan Unilever Limited (NSE:HINDUNILVR) - Simply Wall St',\n",
       "  'Hindustan Unilever dips into luxury retail with Hourglass launch - Inside Retail Asia',\n",
       "  'Hindustan Unilever to reduce palm oil content in soaps by 25% - Oils & Fats International',\n",
       "  'Hindustan Unilever Limited Board approves demerger of Ice Cream business into an independent listed entity - The Hindu',\n",
       "  'Hindustan Unilever Q2 Results Live: Profit Falls by 2.45% YOY | Company Business News - Mint',\n",
       "  'Hindustan Unilever shares tumble nearly 6% post earnings; market valuation falls by Rs 36,430 crore - Deccan Herald',\n",
       "  'Hindustan Unilever Limited to separate its ice cream business - Business Today']}"
      ]
     },
     "execution_count": 12,
     "metadata": {},
     "output_type": "execute_result"
    }
   ],
   "source": [
    "company =\"Hindusten Unilver\"\n",
    "top_headlines = get_google_news_headlines(f'{company}+company')\n",
    "top_headlines"
   ]
  },
  {
   "cell_type": "markdown",
   "id": "d15aa2a1-7ce5-4976-9ce7-9bbbfab56b2f",
   "metadata": {},
   "source": [
    "### Fetching Financial Statements"
   ]
  },
  {
   "cell_type": "markdown",
   "id": "9929adfa-ad56-414e-83d9-a499389af621",
   "metadata": {},
   "source": [
    "### Important Ratios"
   ]
  },
  {
   "cell_type": "code",
   "execution_count": 32,
   "id": "a102269f-0bd1-4a28-9748-40eda1d8ac6d",
   "metadata": {},
   "outputs": [],
   "source": [
    "def get_company_fundamentals(company_name):\n",
    "\n",
    "    url = f\"https://groww.in/stocks/{company_name}\"\n",
    "    # Send a request to fetch the HTML content of the page with a timeout\n",
    "    response = requests.get(url, headers={'User-Agent': 'Mozilla/5.0'},timeout =5)\n",
    "    soup = BeautifulSoup(response.content, 'lxml')  # Using 'lxml' for faster parsing\n",
    "    # Find the specific div container and then the table within it\n",
    "    container = soup.find('div', class_='row l12 ft785TableContainer')\n",
    "    rows = []\n",
    "    \n",
    "    if container:\n",
    "        table = container.find('table', class_='tb10Table col l12 ft785Table')\n",
    "        print(table)\n",
    "        if table:\n",
    "            for row in table.find_all('tr'):\n",
    "                cells = [cell.text.strip() for cell in row.find_all(['th', 'td'])]\n",
    "                rows.append(cells)\n",
    "        else:\n",
    "            print(\"Table with the specified class not found within the container.\")\n",
    "    else:\n",
    "        print(\"Container with the specified class not found.\")\n",
    "    \n",
    "    # Print all rows\n",
    "    dict = {} \n",
    "    for row in rows:\n",
    "        dict[row[0]] = row[1]\n",
    "    \n",
    "    # del dict['Market Cap']\n",
    "    json_data = json.dumps(dict)\n",
    "    data = json.loads(json_data)\n",
    "    return {'fundamental_ratios': data}   # Returning data in json format\n",
    "\n"
   ]
  },
  {
   "cell_type": "markdown",
   "id": "de1b83e7-d13b-43be-9367-259e433a69d0",
   "metadata": {},
   "source": [
    "### Integrating all Tools"
   ]
  },
  {
   "cell_type": "code",
   "execution_count": 35,
   "id": "ad27d4aa-d5e2-4a58-ad74-8d72b9b664dc",
   "metadata": {},
   "outputs": [],
   "source": [
    "def stock_analyzer(company_name, data_df):\n",
    "    llm = ChatOpenAI(model=\"gpt-4o-mini\", temperature=0.5)\n",
    "    \n",
    "    tools = [\n",
    "        Tool(\n",
    "            name=\"find_company_symbol\",\n",
    "            func=lambda inputs: find_company_symbol(company_name, data_df),\n",
    "            description=\"Extracts symbol and full name of a company using company name and DataFrame.\",\n",
    "            return_direct=False\n",
    "    \n",
    "        ),\n",
    "        \n",
    "        Tool(\n",
    "            name=\"GetPast5DaysData\",\n",
    "            func=lambda symbol: get_stock_price(symbol.strip('\"').strip(\"'\").strip().strip(\"'\").strip('\"')) ,\n",
    "        #     func=lambda symbol: (\n",
    "        #     print(f\"GetPast5DaysData received symbol: {symbol.strip()}\"),  # Debugging line\n",
    "        #     get_stock_price(symbol.strip())\n",
    "        # )[1],\n",
    "            description=\"Fetches past 5 days stock price and volume; requires precise symbol of the company's stock\",\n",
    "            return_direct=False\n",
    "        ),\n",
    "        Tool(\n",
    "            name=\"GetRecentNews\",\n",
    "            func=lambda inputs: get_google_news_headlines(company_name),\n",
    "            description=\"Fetches recent news headlines about company\",\n",
    "            return_direct=False\n",
    "        ),\n",
    "        Tool(\n",
    "            name=\"GetFunadamentalRatios\",\n",
    "            # func=lambda inputs: get_company_fundamentals(inputs['full_name']) if inputs[\"full_name\"] else None,\n",
    "            func=lambda full_name: get_company_fundamentals(full_name.strip('\"').strip(\"'\").strip().strip(\"'\").strip('\"')),\n",
    "        #     func=lambda symbol: (\n",
    "        #     print(f\"GetPast5DaysData received symbol: {symbol.strip()}\"),  # Debugging line\n",
    "        #     get_company_fundamentals(symbol.strip())\n",
    "        # )[1],\n",
    "            description=\"Gets fundamental ratios and values of a company; requires the precise full name of the company which you might obtain from find_company_symbol.\",\n",
    "            return_direct=False\n",
    "        ),\n",
    "    ]\n",
    "    \n",
    "    # Main function to handle agent-based analysis\n",
    "    def analyze_stock_with_agent(company_name, data_df):\n",
    "        # Provide initial context to agent, guiding it on dependencies\n",
    "        context = (\n",
    "            f\"Company Name: {company_name}\\n\"\n",
    "            \"Goal: Extract symbol and full name, then use symbol to fetch past 5 days stock data and news. \"\n",
    "            \"Use full name to retrieve fundamental ratios.\\n\"\n",
    "            \"If certain information is missing (like symbol), extract it first.\"\n",
    "            \"When completing actions, please respond in this exact format:\\n\\n\"\n",
    "            \"Thought: [Your thought process]\\n\"\n",
    "        \"Action: [Name of the action]\\n\"\n",
    "        \"Action Input: [The input required for the action]\\n\\n\"\n",
    "\n",
    "       \"Following are the points that you can consider while analysing :\\n\"\n",
    "       \"1. If past day prices are monotonic i.e. either increasing or decreasing, then one can say it is a good or bad sign resepctively\"\n",
    "       \"2. If past day prices are not montonic and vary from each other, it means stock is volatile and risky at moment\"\n",
    "       \"3. Doing sentimental Analysis of recent news can tell us whether there is positive response for company from market or not\"\n",
    "       \"4. If P/E Ratio (TTM) is significantly greater than industry P/E ratio and P/B ratio is significantly greater, then this mean stock is overvalued\"\n",
    "       \"5. ROE greater than 12% is generally considered as good\"\n",
    "       \"6. Lower D/E ratio, usually smaller than 0.4, is considered as good\"\n",
    "       \"7. P/B ratio, lower than 10, is usually considered as good\"\n",
    "\n",
    "        \"Based on the above all information, please answer the following:\\n\"\n",
    "        \"1. Is the company in good financial condition?\\n\"\n",
    "        \"2. Should the stock be bought or sold?\\n\"\n",
    "        \"3. If buying, suggest an ideal holding period (short-term, medium-term, or long-term).\\n\"\n",
    "\n",
    "        \"Please Provide proper explanation, reason or rationale behind answers of above question\"\n",
    "\n",
    "\n",
    "    )\n",
    "  \n",
    "    # Run agent to gather and analyze data\n",
    "        response = agent.run(input = context, company_name=company_name, data_df=data_df)\n",
    "        return response\n",
    "\n",
    "       # Initialize the agent, which will select tools based on context\n",
    "    agent = initialize_agent(\n",
    "        tools=tools,\n",
    "        llm=llm,  # Your language model\n",
    "        agent=AgentType.ZERO_SHOT_REACT_DESCRIPTION,\n",
    "        verbose= True\n",
    "    )\n",
    "    \n",
    "\n",
    "    company_name = company_name\n",
    "    data_df = data_df # Replace with actual DataFrame object\n",
    "    recommendation = analyze_stock_with_agent(company_name, data_df)\n",
    "    return recommendation\n"
   ]
  },
  {
   "cell_type": "code",
   "execution_count": 36,
   "id": "e12a0bb8-1510-407e-ab67-03bc04732c6d",
   "metadata": {},
   "outputs": [
    {
     "data": {
      "application/vnd.jupyter.widget-view+json": {
       "model_id": "3fec2cb508414f42abc050f5266b01e4",
       "version_major": 2,
       "version_minor": 0
      },
      "text/plain": [
       "Text(value='', description='Company Name:', placeholder='Enter the name of the company')"
      ]
     },
     "metadata": {},
     "output_type": "display_data"
    },
    {
     "data": {
      "application/vnd.jupyter.widget-view+json": {
       "model_id": "acc6c183b5d24646b9a470a871f9cd60",
       "version_major": 2,
       "version_minor": 0
      },
      "text/plain": [
       "Button(button_style='primary', description='Analyze Stock', style=ButtonStyle())"
      ]
     },
     "metadata": {},
     "output_type": "display_data"
    },
    {
     "data": {
      "application/vnd.jupyter.widget-view+json": {
       "model_id": "f44292731e6c480a968907f7c3ee7f08",
       "version_major": 2,
       "version_minor": 0
      },
      "text/plain": [
       "Output()"
      ]
     },
     "metadata": {},
     "output_type": "display_data"
    }
   ],
   "source": [
    "import ipywidgets as widgets\n",
    "from IPython.display import display\n",
    "\n",
    "# Define the widgets\n",
    "company_name_widget = widgets.Text(value='', description='Company Name:', placeholder='Enter the name of the company')\n",
    "analyze_button = widgets.Button(description='Analyze Stock', button_style='primary')\n",
    "output_area = widgets.Output()\n",
    "\n",
    "# Display widgets\n",
    "display(company_name_widget, analyze_button, output_area)\n",
    "\n",
    "# Define the function to analyze stock with the agent\n",
    "def analyze_stock(b):\n",
    "    output_area.clear_output()  # Clear previous output before new analysis\n",
    "    with output_area:\n",
    "        company_name = company_name_widget.value.strip()  # Capture and strip latest company name\n",
    "        # print(company_name,\"hgjg\")\n",
    "        data_df = nse_data  # Replace with actual DataFrame object\n",
    "    \n",
    "        try:\n",
    "            print(f\"Analyzing stock for: {company_name}\")  # Print the current company being analyzed\n",
    "            recommendation = stock_analyzer(company_name, data_df)\n",
    "            print(\"Summary:\", recommendation)\n",
    "        except Exception as e:\n",
    "            print(f\"An error occurred: {e}\")\n",
    "\n",
    "# Link button to the function\n",
    "analyze_button.on_click(analyze_stock)\n"
   ]
  },
  {
   "cell_type": "code",
   "execution_count": null,
   "id": "555920bc-48d2-4daf-ab9f-d4aa274919c9",
   "metadata": {},
   "outputs": [],
   "source": []
  }
 ],
 "metadata": {
  "kernelspec": {
   "display_name": "Python 3 (ipykernel)",
   "language": "python",
   "name": "python3"
  },
  "language_info": {
   "codemirror_mode": {
    "name": "ipython",
    "version": 3
   },
   "file_extension": ".py",
   "mimetype": "text/x-python",
   "name": "python",
   "nbconvert_exporter": "python",
   "pygments_lexer": "ipython3",
   "version": "3.12.0"
  }
 },
 "nbformat": 4,
 "nbformat_minor": 5
}
